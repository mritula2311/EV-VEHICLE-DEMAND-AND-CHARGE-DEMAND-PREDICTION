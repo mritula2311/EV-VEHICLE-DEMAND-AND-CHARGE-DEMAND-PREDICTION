{
  "nbformat": 4,
  "nbformat_minor": 0,
  "metadata": {
    "colab": {
      "provenance": [],
      "authorship_tag": "ABX9TyNoUWh1jCxsgHc/rQuKlvRJ",
      "include_colab_link": true
    },
    "kernelspec": {
      "name": "python3",
      "display_name": "Python 3"
    },
    "language_info": {
      "name": "python"
    }
  },
  "cells": [
    {
      "cell_type": "markdown",
      "metadata": {
        "id": "view-in-github",
        "colab_type": "text"
      },
      "source": [
        "<a href=\"https://colab.research.google.com/github/mritula2311/EV-VEHICLE-DEMAND-AND-CHARGE-DEMAND-PREDICTION/blob/main/EV_Vehicle_Charging_Demand_Prediction.ipynb\" target=\"_parent\"><img src=\"https://colab.research.google.com/assets/colab-badge.svg\" alt=\"Open In Colab\"/></a>"
      ]
    },
    {
      "cell_type": "code",
      "execution_count": 18,
      "metadata": {
        "id": "BUPdYpRtcNzk",
        "outputId": "e9f6e322-a626-4e4c-fbdc-0f444d5f5278",
        "colab": {
          "base_uri": "https://localhost:8080/"
        }
      },
      "outputs": [
        {
          "output_type": "stream",
          "name": "stdout",
          "text": [
            "--- Original Data Info ---\n",
            "<class 'pandas.core.frame.DataFrame'>\n",
            "RangeIndex: 20819 entries, 0 to 20818\n",
            "Data columns (total 10 columns):\n",
            " #   Column                                    Non-Null Count  Dtype  \n",
            "---  ------                                    --------------  -----  \n",
            " 0   Date                                      20819 non-null  object \n",
            " 1   County                                    20733 non-null  object \n",
            " 2   State                                     20733 non-null  object \n",
            " 3   Vehicle Primary Use                       20819 non-null  object \n",
            " 4   Battery Electric Vehicles (BEVs)          20819 non-null  object \n",
            " 5   Plug-In Hybrid Electric Vehicles (PHEVs)  20819 non-null  object \n",
            " 6   Electric Vehicle (EV) Total               20819 non-null  object \n",
            " 7   Non-Electric Vehicle Total                20819 non-null  object \n",
            " 8   Total Vehicles                            20819 non-null  object \n",
            " 9   Percent Electric Vehicles                 20819 non-null  float64\n",
            "dtypes: float64(1), object(9)\n",
            "memory usage: 1.6+ MB\n",
            "                Date          County State Vehicle Primary Use  \\\n",
            "0  September 30 2022       Riverside    CA           Passenger   \n",
            "1   December 31 2022  Prince William    VA           Passenger   \n",
            "2    January 31 2020          Dakota    MN           Passenger   \n",
            "3       June 30 2022           Ferry    WA               Truck   \n",
            "4       July 31 2021         Douglas    CO           Passenger   \n",
            "\n",
            "  Battery Electric Vehicles (BEVs) Plug-In Hybrid Electric Vehicles (PHEVs)  \\\n",
            "0                                7                                        0   \n",
            "1                                1                                        2   \n",
            "2                                0                                        1   \n",
            "3                                0                                        0   \n",
            "4                                0                                        1   \n",
            "\n",
            "  Electric Vehicle (EV) Total Non-Electric Vehicle Total Total Vehicles  \\\n",
            "0                           7                        460            467   \n",
            "1                           3                        188            191   \n",
            "2                           1                         32             33   \n",
            "3                           0                      3,575          3,575   \n",
            "4                           1                         83             84   \n",
            "\n",
            "   Percent Electric Vehicles  \n",
            "0                       1.50  \n",
            "1                       1.57  \n",
            "2                       3.03  \n",
            "3                       0.00  \n",
            "4                       1.19  \n",
            "\n",
            "--- Preprocessed Data Info ---\n",
            "<class 'pandas.core.frame.DataFrame'>\n",
            "Index: 20733 entries, 0 to 20818\n",
            "Data columns (total 13 columns):\n",
            " #   Column                                    Non-Null Count  Dtype         \n",
            "---  ------                                    --------------  -----         \n",
            " 0   Date                                      20733 non-null  datetime64[ns]\n",
            " 1   County                                    20733 non-null  object        \n",
            " 2   State                                     20733 non-null  object        \n",
            " 3   Vehicle Primary Use                       20733 non-null  object        \n",
            " 4   Battery Electric Vehicles (BEVs)          20733 non-null  int64         \n",
            " 5   Plug-In Hybrid Electric Vehicles (PHEVs)  20733 non-null  int64         \n",
            " 6   Electric Vehicle (EV) Total               20733 non-null  int64         \n",
            " 7   Non-Electric Vehicle Total                20733 non-null  int64         \n",
            " 8   Total Vehicles                            20733 non-null  int64         \n",
            " 9   Percent Electric Vehicles                 20733 non-null  float64       \n",
            " 10  Year                                      20733 non-null  int32         \n",
            " 11  Month                                     20733 non-null  int32         \n",
            " 12  Day                                       20733 non-null  int32         \n",
            "dtypes: datetime64[ns](1), float64(1), int32(3), int64(5), object(3)\n",
            "memory usage: 2.0+ MB\n",
            "\n",
            "--- First 5 Rows of Preprocessed Data ---\n",
            "        Date          County State Vehicle Primary Use  \\\n",
            "0 2022-09-30       Riverside    CA           Passenger   \n",
            "1 2022-12-31  Prince William    VA           Passenger   \n",
            "2 2020-01-31          Dakota    MN           Passenger   \n",
            "3 2022-06-30           Ferry    WA               Truck   \n",
            "4 2021-07-31         Douglas    CO           Passenger   \n",
            "\n",
            "   Battery Electric Vehicles (BEVs)  Plug-In Hybrid Electric Vehicles (PHEVs)  \\\n",
            "0                                 7                                         0   \n",
            "1                                 1                                         2   \n",
            "2                                 0                                         1   \n",
            "3                                 0                                         0   \n",
            "4                                 0                                         1   \n",
            "\n",
            "   Electric Vehicle (EV) Total  Non-Electric Vehicle Total  Total Vehicles  \\\n",
            "0                            7                         460             467   \n",
            "1                            3                         188             191   \n",
            "2                            1                          32              33   \n",
            "3                            0                        3575            3575   \n",
            "4                            1                          83              84   \n",
            "\n",
            "   Percent Electric Vehicles  Year  Month  Day  \n",
            "0                       1.50  2022      9   30  \n",
            "1                       1.57  2022     12   31  \n",
            "2                       3.03  2020      1   31  \n",
            "3                       0.00  2022      6   30  \n",
            "4                       1.19  2021      7   31  \n",
            "\n",
            "✅ Preprocessing complete! The cleaned data is saved to 'preprocessed_ev_data.csv'\n"
          ]
        }
      ],
      "source": [
        "import pandas as pd\n",
        "# --- Step 2: Load the Dataset ---\n",
        "# Update the file_path to the name of your uploaded file.\n",
        "file_path = '3ae033f50fa345051652.csv'\n",
        "df = pd.read_csv(file_path)\n",
        "\n",
        "print(\"--- Original Data Info ---\")\n",
        "df.info()\n",
        "print(df.head())\n",
        "\n",
        "# --- Step 3: Preprocessing the Data ---\n",
        "\n",
        "# 1. Convert 'Date' column to a proper datetime format.\n",
        "df['Date'] = pd.to_datetime(df['Date'])\n",
        "\n",
        "# 2. Define the columns that should be numeric but are stored as text with commas.\n",
        "numeric_cols = [\n",
        "    'Battery Electric Vehicles (BEVs)',\n",
        "    'Plug-In Hybrid Electric Vehicles (PHEVs)',\n",
        "    'Electric Vehicle (EV) Total',\n",
        "    'Non-Electric Vehicle Total',\n",
        "    'Total Vehicles'\n",
        "]\n",
        "\n",
        "# Clean and convert these columns to integers.\n",
        "for col in numeric_cols:\n",
        "    df[col] = df[col].astype(str).str.replace(',', '').astype(int)\n",
        "\n",
        "# 3. Handle missing values by dropping rows where 'County' or 'State' is not specified.\n",
        "df.dropna(subset=['County', 'State'], inplace=True)\n",
        "\n",
        "# 4. Feature Engineering: Extract Year, Month, and Day from the 'Date' column.\n",
        "df['Year'] = df['Date'].dt.year\n",
        "df['Month'] = df['Date'].dt.month\n",
        "df['Day'] = df['Date'].dt.day\n",
        "\n",
        "# --- Step 4: Display the Preprocessed Data ---\n",
        "print(\"\\n--- Preprocessed Data Info ---\")\n",
        "df.info()\n",
        "print(\"\\n--- First 5 Rows of Preprocessed Data ---\")\n",
        "print(df.head())\n",
        "\n",
        "\n",
        "# --- (Optional) Step 5: Save the cleaned data to a new CSV file ---\n",
        "# This will save the preprocessed dataframe to a new file in your Colab environment.\n",
        "# You can then download it from the \"Files\" panel on the left.\n",
        "df.to_csv('preprocessed_ev_data.csv', index=False)\n",
        "\n",
        "print(\"\\n✅ Preprocessing complete! The cleaned data is saved to 'preprocessed_ev_data.csv'\")"
      ]
    },
    {
      "cell_type": "code",
      "source": [
        "import pandas as pd\n",
        "from sklearn.model_selection import train_test_split\n",
        "from sklearn.preprocessing import StandardScaler, OneHotEncoder\n",
        "from sklearn.compose import ColumnTransformer\n",
        "from sklearn.pipeline import Pipeline\n",
        "\n",
        "# --- Step 0: Ensure the DataFrame is loaded and sorted ---\n",
        "# This assumes 'df' is your preprocessed DataFrame from the previous steps.\n",
        "# If not, load the preprocessed file first:\n",
        "# df = pd.read_csv('preprocessed_ev_data.csv', parse_dates=['Date'])\n",
        "\n",
        "# It is CRITICAL to sort the data by date for a time-series split\n",
        "df = df.sort_values('Date').reset_index(drop=True)\n",
        "\n",
        "print(\"--- Data sorted by Date ---\")\n",
        "print(df.head())\n",
        "\n",
        "\n",
        "# --- Step 1: Define Features (X) and Target (y) ---\n",
        "# For this example, let's predict the 'Electric Vehicle (EV) Total'.\n",
        "# The features are all other relevant columns.\n",
        "X = df.drop(columns=['Electric Vehicle (EV) Total', 'Date']) # Drop target and original date\n",
        "y = df['Electric Vehicle (EV) Total']\n",
        "\n",
        "\n",
        "# --- Step 2: Chronological Train-Test Split ---\n",
        "# We will use the first 80% of the data for training and the most recent 20% for testing.\n",
        "split_index = int(len(X) * 0.8)\n",
        "X_train, X_test = X[:split_index], X[split_index:]\n",
        "y_train, y_test = y[:split_index], y[split_index:]\n",
        "\n",
        "print(f\"\\n--- Data Split Chronologically ---\")\n",
        "print(f\"Training set size: {len(X_train)} rows\")\n",
        "print(f\"Testing set size: {len(X_test)} rows\")\n",
        "print(f\"Training data goes up to date: {df['Date'].iloc[split_index-1]}\")\n",
        "print(f\"Testing data starts from date: {df['Date'].iloc[split_index]}\")\n",
        "\n",
        "\n",
        "# --- Step 3: Create Preprocessing Pipelines for Column Types ---\n",
        "# We need to treat categorical and numerical columns differently.\n",
        "\n",
        "# Identify categorical and numerical feature names\n",
        "categorical_features = ['County', 'State', 'Vehicle Primary Use']\n",
        "numerical_features = X_train.select_dtypes(include=['int64', 'float64']).columns\n",
        "\n",
        "# Create a preprocessing pipeline for numerical data (scaling)\n",
        "numerical_transformer = StandardScaler()\n",
        "\n",
        "# Create a preprocessing pipeline for categorical data (one-hot encoding)\n",
        "# handle_unknown='ignore' tells the encoder to ignore categories that appear in the\n",
        "# test set but not in the training set.\n",
        "categorical_transformer = OneHotEncoder(handle_unknown='ignore')\n",
        "\n",
        "# Bundle preprocessing for numerical and categorical data\n",
        "preprocessor = ColumnTransformer(\n",
        "    transformers=[\n",
        "        ('num', numerical_transformer, numerical_features),\n",
        "        ('cat', categorical_transformer, categorical_features)\n",
        "    ],\n",
        "    remainder='passthrough' # Keep other columns (if any) untouched\n",
        ")\n",
        "\n",
        "\n",
        "# --- Step 4: Apply the Preprocessing to the Data ---\n",
        "# The preprocessor is 'fitted' on the training data to learn the scaling parameters\n",
        "# and the categories, and then it 'transforms' both the training and test data.\n",
        "\n",
        "X_train_prepared = preprocessor.fit_transform(X_train)\n",
        "X_test_prepared = preprocessor.transform(X_test)\n",
        "\n",
        "\n",
        "# --- Step 5: Inspect the Final Prepared Data ---\n",
        "print(\"\\n--- Preprocessing Complete ---\")\n",
        "print(\"Shape of the final prepared training data (X_train_prepared):\")\n",
        "print(X_train_prepared.shape)\n",
        "\n",
        "print(\"\\nShape of the final prepared testing data (X_test_prepared):\")\n",
        "print(X_test_prepared.shape)\n",
        "df.to_csv('preprocessed_ev_datacharge.csv', index=False)\n",
        "# Note: The output is a sparse matrix because of one-hot encoding,\n",
        "# which is efficient for storage.\n",
        "print(\"\\nExample of a few rows from the prepared training data:\")\n",
        "print(X_train_prepared[:5])\n",
        "print(\"\\n✅ Advanced preprocessing is complete. The data is now ready for model training.\")"
      ],
      "metadata": {
        "colab": {
          "base_uri": "https://localhost:8080/"
        },
        "id": "52h5adD8-Zow",
        "outputId": "3a2f7f5b-c6c3-4e9b-9452-ef8e4466a1df"
      },
      "execution_count": 5,
      "outputs": [
        {
          "output_type": "stream",
          "name": "stdout",
          "text": [
            "--- Data sorted by Date ---\n",
            "        Date   County State Vehicle Primary Use  \\\n",
            "0 2017-01-31    Brown    WI           Passenger   \n",
            "1 2017-01-31   Hawaii    HI           Passenger   \n",
            "2 2017-01-31   Benton    WA               Truck   \n",
            "3 2017-01-31  Madison    ID           Passenger   \n",
            "4 2017-01-31   Chelan    WA           Passenger   \n",
            "\n",
            "   Battery Electric Vehicles (BEVs)  Plug-In Hybrid Electric Vehicles (PHEVs)  \\\n",
            "0                                 1                                         0   \n",
            "1                                 1                                         0   \n",
            "2                                 0                                         0   \n",
            "3                                 1                                         0   \n",
            "4                                54                                        28   \n",
            "\n",
            "   Electric Vehicle (EV) Total  Non-Electric Vehicle Total  Total Vehicles  \\\n",
            "0                            1                          46              47   \n",
            "1                            1                          92              93   \n",
            "2                            0                       39814           39814   \n",
            "3                            1                          48              49   \n",
            "4                           82                       51899           51981   \n",
            "\n",
            "   Percent Electric Vehicles  Year  Month  Day  \n",
            "0                       2.13  2017      1   31  \n",
            "1                       1.08  2017      1   31  \n",
            "2                       0.00  2017      1   31  \n",
            "3                       2.04  2017      1   31  \n",
            "4                       0.16  2017      1   31  \n",
            "\n",
            "--- Data Split Chronologically ---\n",
            "Training set size: 16586 rows\n",
            "Testing set size: 4147 rows\n",
            "Training data goes up to date: 2022-11-30 00:00:00\n",
            "Testing data starts from date: 2022-11-30 00:00:00\n",
            "\n",
            "--- Preprocessing Complete ---\n",
            "Shape of the final prepared training data (X_train_prepared):\n",
            "(16586, 358)\n",
            "\n",
            "Shape of the final prepared testing data (X_test_prepared):\n",
            "(4147, 358)\n",
            "\n",
            "Example of a few rows from the prepared training data:\n",
            "<Compressed Sparse Row sparse matrix of dtype 'float64'\n",
            "\twith 55 stored elements and shape (5, 358)>\n",
            "  Coords\tValues\n",
            "  (0, 0)\t-0.09890848738685327\n",
            "  (0, 1)\t-0.1291082607603003\n",
            "  (0, 2)\t-0.23752436745093744\n",
            "  (0, 3)\t-0.23559601499342447\n",
            "  (0, 4)\t-0.15861245977179214\n",
            "  (0, 33)\t1.0\n",
            "  (0, 351)\t1.0\n",
            "  (0, 353)\t1.0\n",
            "  (0, 355)\t2017.0\n",
            "  (0, 356)\t1.0\n",
            "  (0, 357)\t31.0\n",
            "  (1, 0)\t-0.09890848738685327\n",
            "  (1, 1)\t-0.1291082607603003\n",
            "  (1, 2)\t-0.23710199755214004\n",
            "  (1, 3)\t-0.23518091399436797\n",
            "  (1, 4)\t-0.2561589192081322\n",
            "  (1, 112)\t1.0\n",
            "  (1, 314)\t1.0\n",
            "  (1, 353)\t1.0\n",
            "  (1, 355)\t2017.0\n",
            "  (1, 356)\t1.0\n",
            "  (1, 357)\t31.0\n",
            "  (2, 0)\t-0.09949336766056517\n",
            "  (2, 1)\t-0.1291082607603003\n",
            "  (2, 2)\t0.12762359201374165\n",
            "  :\t:\n",
            "  (2, 355)\t2017.0\n",
            "  (2, 356)\t1.0\n",
            "  (2, 357)\t31.0\n",
            "  (3, 0)\t-0.09890848738685327\n",
            "  (3, 1)\t-0.1291082607603003\n",
            "  (3, 2)\t-0.2375060035422941\n",
            "  (3, 3)\t-0.23557796712390028\n",
            "  (3, 4)\t-0.16697358486633557\n",
            "  (3, 152)\t1.0\n",
            "  (3, 316)\t1.0\n",
            "  (3, 353)\t1.0\n",
            "  (3, 355)\t2017.0\n",
            "  (3, 356)\t1.0\n",
            "  (3, 357)\t31.0\n",
            "  (4, 0)\t-0.06790983288012278\n",
            "  (4, 1)\t-0.07760274575318805\n",
            "  (4, 2)\t0.23858750999127754\n",
            "  (4, 3)\t0.23305301294136635\n",
            "  (4, 4)\t-0.34162819795235394\n",
            "  (4, 47)\t1.0\n",
            "  (4, 350)\t1.0\n",
            "  (4, 353)\t1.0\n",
            "  (4, 355)\t2017.0\n",
            "  (4, 356)\t1.0\n",
            "  (4, 357)\t31.0\n",
            "\n",
            "✅ Advanced preprocessing is complete. The data is now ready for model training.\n"
          ]
        }
      ]
    },
    {
      "cell_type": "code",
      "source": [],
      "metadata": {
        "id": "DM1SoH68_VGU"
      },
      "execution_count": null,
      "outputs": []
    },
    {
      "cell_type": "markdown",
      "metadata": {
        "id": "c0ddcf00"
      },
      "source": [
        "# Task\n",
        "Explain the error in the selected code, fix it if possible, and then generate an ML model for demand prediction using the provided data."
      ]
    },
    {
      "cell_type": "markdown",
      "metadata": {
        "id": "27ea0342"
      },
      "source": [
        "## Choose a model\n",
        "\n",
        "### Subtask:\n",
        "Select a suitable model for this regression task. Since this is time-series data, models like ARIMA, or even tree-based models with time-based features could be considered. We can start with a simple yet effective model like a Gradient Boosting Regressor.\n"
      ]
    },
    {
      "cell_type": "markdown",
      "metadata": {
        "id": "a7d56d11"
      },
      "source": [
        "**Reasoning**:\n",
        "Import the necessary model and instantiate it as requested.\n",
        "\n"
      ]
    },
    {
      "cell_type": "code",
      "metadata": {
        "id": "06baf970"
      },
      "source": [
        "from sklearn.ensemble import GradientBoostingRegressor\n",
        "\n",
        "# Instantiate a Gradient Boosting Regressor model\n",
        "gbr_model = GradientBoostingRegressor()"
      ],
      "execution_count": 10,
      "outputs": []
    },
    {
      "cell_type": "markdown",
      "metadata": {
        "id": "9056499f"
      },
      "source": [
        "## Train the model\n",
        "\n",
        "### Subtask:\n",
        "Train the chosen model on the preprocessed training data (`X_train_prepared` and `y_train`).\n"
      ]
    },
    {
      "cell_type": "markdown",
      "metadata": {
        "id": "05a05862"
      },
      "source": [
        "**Reasoning**:\n",
        "Train the Gradient Boosting Regressor model using the preprocessed training data.\n",
        "\n"
      ]
    },
    {
      "cell_type": "code",
      "metadata": {
        "colab": {
          "base_uri": "https://localhost:8080/"
        },
        "id": "aaa78098",
        "outputId": "2580b472-1563-45e5-a7b3-138db231e286"
      },
      "source": [
        "# Train the Gradient Boosting Regressor model\n",
        "gbr_model.fit(X_train_prepared, y_train)\n",
        "\n",
        "print(\"Gradient Boosting Regressor model trained successfully.\")"
      ],
      "execution_count": 11,
      "outputs": [
        {
          "output_type": "stream",
          "name": "stdout",
          "text": [
            "Gradient Boosting Regressor model trained successfully.\n"
          ]
        }
      ]
    },
    {
      "cell_type": "markdown",
      "metadata": {
        "id": "7938c2a6"
      },
      "source": [
        "## Make predictions\n",
        "\n",
        "### Subtask:\n",
        "Use the trained model to make predictions on the preprocessed testing data (`X_test_prepared`).\n"
      ]
    },
    {
      "cell_type": "markdown",
      "metadata": {
        "id": "699f65b8"
      },
      "source": [
        "**Reasoning**:\n",
        "Use the trained Gradient Boosting Regressor model to make predictions on the preprocessed testing data and display the first few predictions.\n",
        "\n"
      ]
    },
    {
      "cell_type": "code",
      "metadata": {
        "colab": {
          "base_uri": "https://localhost:8080/"
        },
        "id": "30779b5c",
        "outputId": "24a569e0-095f-4cee-ddfc-b4913c7203bd"
      },
      "source": [
        "# Use the trained model to make predictions on the preprocessed testing data\n",
        "y_pred = gbr_model.predict(X_test_prepared)\n",
        "\n",
        "# Print the first few predicted values\n",
        "print(\"--- First 5 Predicted Values ---\")\n",
        "print(y_pred[:5])"
      ],
      "execution_count": 12,
      "outputs": [
        {
          "output_type": "stream",
          "name": "stdout",
          "text": [
            "--- First 5 Predicted Values ---\n",
            "[1.29512740e+00 8.18512809e+03 1.24018208e+00 1.26572989e+04\n",
            " 1.24018208e+00]\n"
          ]
        }
      ]
    },
    {
      "cell_type": "markdown",
      "metadata": {
        "id": "8aee69c7"
      },
      "source": [
        "## Evaluate the model\n",
        "\n",
        "### Subtask:\n",
        "Evaluate the model's performance using appropriate regression metrics such as Mean Absolute Error (MAE), Mean Squared Error (MSE), and R-squared.\n"
      ]
    },
    {
      "cell_type": "markdown",
      "metadata": {
        "id": "8cc4ab04"
      },
      "source": [
        "**Reasoning**:\n",
        "Calculate and print the evaluation metrics (MAE, MSE, R-squared) for the model's predictions.\n",
        "\n"
      ]
    },
    {
      "cell_type": "code",
      "metadata": {
        "colab": {
          "base_uri": "https://localhost:8080/"
        },
        "id": "6f2ada6b",
        "outputId": "0f4bd3fc-c9b0-4319-c18b-79d32b2176e1"
      },
      "source": [
        "from sklearn.metrics import mean_absolute_error, mean_squared_error, r2_score\n",
        "import numpy as np\n",
        "\n",
        "# Calculate the Mean Absolute Error (MAE)\n",
        "mae = mean_absolute_error(y_test, y_pred)\n",
        "\n",
        "# Calculate the Mean Squared Error (MSE)\n",
        "mse = mean_squared_error(y_test, y_pred)\n",
        "\n",
        "# Calculate the Root Mean Squared Error (RMSE)\n",
        "rmse = np.sqrt(mse)\n",
        "\n",
        "# Calculate the R-squared score\n",
        "r2 = r2_score(y_test, y_pred)\n",
        "\n",
        "# Print the evaluation metrics\n",
        "print(f\"Mean Absolute Error (MAE): {mae}\")\n",
        "print(f\"Mean Squared Error (MSE): {mse}\")\n",
        "print(f\"Root Mean Squared Error (RMSE): {rmse}\")\n",
        "print(f\"R-squared (R2): {r2}\")"
      ],
      "execution_count": 16,
      "outputs": [
        {
          "output_type": "stream",
          "name": "stdout",
          "text": [
            "Mean Absolute Error (MAE): 69.77320001024759\n",
            "Mean Squared Error (MSE): 1318303.5252078937\n",
            "Root Mean Squared Error (RMSE): 1148.173996051075\n",
            "R-squared (R2): 0.9412199305249961\n"
          ]
        }
      ]
    },
    {
      "cell_type": "markdown",
      "metadata": {
        "id": "384f8091"
      },
      "source": [
        "## Visualize results\n",
        "\n",
        "### Subtask:\n",
        "Visualize the predicted values against the actual values to get a better understanding of the model's performance.\n"
      ]
    },
    {
      "cell_type": "markdown",
      "metadata": {
        "id": "b51ea498"
      },
      "source": [
        "**Reasoning**:\n",
        "Visualize the actual vs. predicted values using a scatter plot and a diagonal line for reference.\n",
        "\n"
      ]
    },
    {
      "cell_type": "code",
      "metadata": {
        "colab": {
          "base_uri": "https://localhost:8080/",
          "height": 564
        },
        "id": "b3cd6386",
        "outputId": "445656b7-418e-49df-f860-5bf670def8f3"
      },
      "source": [
        "import matplotlib.pyplot as plt\n",
        "\n",
        "# Create a scatter plot of actual vs. predicted values\n",
        "plt.figure(figsize=(10, 6))\n",
        "plt.scatter(y_test, y_pred, alpha=0.5)\n",
        "\n",
        "# Add a diagonal line for perfect predictions\n",
        "plt.plot([y_test.min(), y_test.max()], [y_test.min(), y_test.max()], 'k--', lw=2)\n",
        "\n",
        "# Add titles and labels\n",
        "plt.title(\"Actual vs. Predicted EV Total\")\n",
        "plt.xlabel(\"Actual EV Total\")\n",
        "plt.ylabel(\"Predicted EV Total\")\n",
        "\n",
        "# Add a grid\n",
        "plt.grid(True)\n",
        "\n",
        "# Display the plot\n",
        "plt.show()"
      ],
      "execution_count": 14,
      "outputs": [
        {
          "output_type": "display_data",
          "data": {
            "text/plain": [
              "<Figure size 1000x600 with 1 Axes>"
            ],
            "image/png": "[encoded data removed]"
          },
          "metadata": {}
        }
      ]
    },
    {
      "cell_type": "markdown",
      "metadata": {
        "id": "b4f62d31"
      },
      "source": [
        "## Summary:\n",
        "\n",
        "### Data Analysis Key Findings\n",
        "\n",
        "*   The Gradient Boosting Regressor model achieved a Mean Absolute Error (MAE) of approximately 69.77 on the test data.\n",
        "*   The Mean Squared Error (MSE) for the model on the test data was approximately 1,318,303.53.\n",
        "*   The R-squared (R2) score for the model on the test data was approximately 0.9412, indicating a good fit to the data.\n",
        "\n"
      ]
    }
  ]
}